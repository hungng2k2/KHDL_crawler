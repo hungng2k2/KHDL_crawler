{
 "cells": [
  {
   "cell_type": "code",
   "execution_count": 69,
   "metadata": {},
   "outputs": [],
   "source": [
    "import numpy as np\n",
    "from selenium import webdriver\n",
    "from time import sleep\n",
    "import random\n",
    "from selenium.webdriver.common.by import By\n",
    "from selenium.webdriver.chrome.options import Options\n",
    "import pandas as pd\n",
    "import csv\n",
    "from IPython.display import clear_output\n",
    "from datetime import datetime"
   ]
  },
  {
   "cell_type": "code",
   "execution_count": 70,
   "metadata": {},
   "outputs": [
    {
     "name": "stderr",
     "output_type": "stream",
     "text": [
      "C:\\Users\\Hung Nguyen\\AppData\\Local\\Temp\\ipykernel_7388\\3222088995.py:2: DeprecationWarning: headless property is deprecated, instead use add_argument('--headless') or add_argument('--headless=new')\n",
      "  options.headless = True\n"
     ]
    }
   ],
   "source": [
    "options = Options()\n",
    "options.headless = True\n",
    "options.add_argument(\"--window-size=1920,1200\")\n",
    "driver = webdriver.ChromiumEdge(options=options)"
   ]
  },
  {
   "cell_type": "code",
   "execution_count": 71,
   "metadata": {},
   "outputs": [],
   "source": [
    "def crawl_data(number_size):\n",
    "    count = 0\n",
    "    page = 570\n",
    "    first = True\n",
    "    file_name = f'bigdataset-{datetime.now().strftime(\"%d-%m-%Y_%H-%M\")}.csv'\n",
    "    with open(file_name, \"w\", encoding='utf_8') as file:\n",
    "        file.write(\"Hãng xe,Dòng xe,Năm đăng ký,Số Km đã đi,Tình trạng,Loại xe,Dung tích xe,Xuất xứ,Chính sách bảo hành,Giá\\n\")\n",
    "        while count < number_size:\n",
    "            try:\n",
    "                page_string = \"https://xe.chotot.com/mua-ban-xe-may?page=\" + str(page)\n",
    "                driver.get(page_string)\n",
    "                if first:\n",
    "                    driver.find_element('xpath', '/html/body').click()\n",
    "                    first = False\n",
    "                elements = driver.find_elements(By.CSS_SELECTOR, \".AdItem_wrapperAdItem__S6qPH [href]\")\n",
    "                links = [elem.get_attribute('href') for elem in elements]\n",
    "                for i in range(0, len(links)):\n",
    "                    driver.get(links[i])\n",
    "                    try:\n",
    "                        more_infor_btn = driver.find_element('xpath', '/html/body/div[1]/div/div[3]/div[1]/div/div[4]/div/div[4]/button')\n",
    "                        more_infor_btn.click()\n",
    "                        hangxe = driver.find_element('xpath', '/html/body/div[1]/div/div[3]/div[1]/div/div[4]/div/div[4]/div[2]/div[1]/div/div[2]/span/a').text\n",
    "                        dongxe = driver.find_element('xpath', '/html/body/div[1]/div/div[3]/div[1]/div/div[4]/div/div[4]/div[2]/div[2]/div/div[2]/span/a').text\n",
    "                        namdk = driver.find_element('xpath', '/html/body/div[1]/div/div[3]/div[1]/div/div[4]/div/div[4]/div[2]/div[3]/div/div[2]/span/span[2]').text\n",
    "                        sokm = driver.find_element('xpath', '/html/body/div[1]/div/div[3]/div[1]/div/div[4]/div/div[4]/div[2]/div[4]/div/div[2]/span/span[2]').text\n",
    "                        tinhtrang = driver.find_element('xpath', '/html/body/div[1]/div/div[3]/div[1]/div/div[4]/div/div[4]/div[2]/div[5]/div/div[2]/span/span[2]').text\n",
    "                        loaixe = driver.find_element('xpath', '/html/body/div[1]/div/div[3]/div[1]/div/div[4]/div/div[4]/div[2]/div[6]/div/div[2]/span/span[2]').text\n",
    "                        dungticxe = driver.find_element('xpath', '/html/body/div[1]/div/div[3]/div[1]/div/div[4]/div/div[4]/div[2]/div[7]/div/div[2]/span/span[2]').text\n",
    "                        xuatsu = driver.find_element('xpath', '/html/body/div[1]/div/div[3]/div[1]/div/div[4]/div/div[4]/div[2]/div[8]/div/div[2]/span/span[2]').text\n",
    "                        chinhsach = driver.find_element('xpath', '/html/body/div[1]/div/div[3]/div[1]/div/div[4]/div/div[4]/div[2]/div[9]/div/div[2]/span/span[2]').text\n",
    "                        price = driver.find_element('xpath', '/html/body/div[1]/div/div[3]/div[1]/div/div[4]/div/div[2]/div/div/div/span/div/span/span/span[1]').text\n",
    "                        data = f\"{str(hangxe.strip())},{str(dongxe.strip())},{str(namdk.strip())},{str(sokm.strip())},{str(tinhtrang.strip())},{str(loaixe.strip())},{str(dungticxe.strip())},{str(xuatsu.strip())},{str(chinhsach.strip())},{str(price.strip())}\\n\"\n",
    "                        clear_output(wait=True)\n",
    "                        print(f\"{page}-{count}: {data}\")\n",
    "                        file.write(data)\n",
    "                        count += 1\n",
    "                        if count >= number_size:\n",
    "                            break\n",
    "                    except:\n",
    "                        continue\n",
    "                page += 1\n",
    "            except Exception as e:\n",
    "                print(e)\n",
    "                # page += 1\n",
    "                # continue\n",
    "                break\n",
    "    file.close()\n",
    "    return page"
   ]
  },
  {
   "cell_type": "code",
   "execution_count": 72,
   "metadata": {},
   "outputs": [
    {
     "name": "stdout",
     "output_type": "stream",
     "text": [
      "850-4063: Honda,Winner,2018,50000,Đã sử dụng,Tay côn/Moto,100 - 175 cc,Đang cập nhật,Bảo hành hãng,17.000.000 đ\n",
      "\n"
     ]
    }
   ],
   "source": [
    "page = crawl_data(number_size=10000)"
   ]
  },
  {
   "cell_type": "code",
   "execution_count": null,
   "metadata": {},
   "outputs": [
    {
     "data": {
      "text/plain": [
       "569"
      ]
     },
     "execution_count": 68,
     "metadata": {},
     "output_type": "execute_result"
    }
   ],
   "source": [
    "page"
   ]
  }
 ],
 "metadata": {
  "kernelspec": {
   "display_name": "Python 3",
   "language": "python",
   "name": "python3"
  },
  "language_info": {
   "codemirror_mode": {
    "name": "ipython",
    "version": 3
   },
   "file_extension": ".py",
   "mimetype": "text/x-python",
   "name": "python",
   "nbconvert_exporter": "python",
   "pygments_lexer": "ipython3",
   "version": "3.10.10"
  },
  "orig_nbformat": 4
 },
 "nbformat": 4,
 "nbformat_minor": 2
}
